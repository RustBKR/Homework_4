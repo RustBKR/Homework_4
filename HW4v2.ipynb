{
 "cells": [
  {
   "cell_type": "markdown",
   "metadata": {},
   "source": [
    "# Задание к лекции \"Функции\".\n",
    "Для зачета необходимо правильно выполнить 4 заданий из 6.  \n",
    "Для зачета с отличием – все 6."
   ]
  },
  {
   "cell_type": "markdown",
   "metadata": {},
   "source": [
    "## Задание 1"
   ]
  },
  {
   "cell_type": "markdown",
   "metadata": {},
   "source": [
    "Дан список вида:"
   ]
  },
  {
   "cell_type": "code",
   "execution_count": 1,
   "metadata": {},
   "outputs": [
    {
     "name": "stdout",
     "output_type": "stream",
     "text": [
      "103\n"
     ]
    }
   ],
   "source": [
    "data = [\n",
    "    [13, 25, 23, 34],\n",
    "    [45, 32, 44, 47],\n",
    "    [12, 33, 23, 95],\n",
    "    [13, 53, 34, 35]\n",
    "]\n",
    "def sum_diag():\n",
    "    sum_d = 0\n",
    "    x = 0\n",
    "    for n in data:\n",
    "        sum_d += n[x]\n",
    "        x += 1\n",
    "    return sum_d\n",
    "print (sum_diag())"
   ]
  },
  {
   "cell_type": "markdown",
   "metadata": {},
   "source": [
    "Напишите функцию, которая возвращает сумму элементов на диагонали. Т. е. 13+32+23+35.  \n",
    "Список может быть любой длины, но всегда является \"квадратным\" (количество элементов во вложенных списках равно их количеству)."
   ]
  },
  {
   "cell_type": "markdown",
   "metadata": {},
   "source": [
    "## Задание 2"
   ]
  },
  {
   "cell_type": "markdown",
   "metadata": {},
   "source": [
    "Напишите функцию, возвращающую сумму первых n чисел Фибоначчи (для этого вам может понадобится ознакомиться с рекурсией)."
   ]
  },
  {
   "cell_type": "code",
   "execution_count": 2,
   "metadata": {},
   "outputs": [
    {
     "name": "stdout",
     "output_type": "stream",
     "text": [
      "Введите количество первых n чисел Фибоначчи: 2\n",
      "[0, 1, 1, 2]\n",
      "4\n"
     ]
    }
   ],
   "source": [
    "def num_fibonacci(n):\n",
    "    num_fib = [0,1]\n",
    "    x = 0\n",
    "    while x < n:\n",
    "        next_num = num_fib[x] + num_fib[x+1]\n",
    "        num_fib.append(next_num)\n",
    "        x +=1\n",
    "    return num_fib\n",
    "def sum_fibonacci():\n",
    "    sum_num_fib = 0\n",
    "    n = int(input('Введите количество первых n чисел Фибоначчи: '))\n",
    "    num_fib = num_fibonacci(n)\n",
    "    print (num_fib)\n",
    "    for value in num_fib:\n",
    "        sum_num_fib += value\n",
    "    print (sum_num_fib)\n",
    "sum_fibonacci()"
   ]
  },
  {
   "cell_type": "markdown",
   "metadata": {},
   "source": [
    "## Задание 3"
   ]
  },
  {
   "cell_type": "code",
   "execution_count": 9,
   "metadata": {},
   "outputs": [
    {
     "name": "stdout",
     "output_type": "stream",
     "text": [
      "Введите количество гостей: 2\n",
      "Введите название блюд для  1  гостя через пробел\n",
      "пицца пицца лимонад\n",
      "Введите название блюд для  2  гостя через пробел\n",
      "салат пицца лимонад\n",
      "Список покупок: \n",
      "сыр 170 гр\n",
      "томаты 80 гр\n",
      "огурцы 60 гр\n",
      "маслины 30 гр\n",
      "оливковое масло 60 мл\n",
      "салат 30 гр\n",
      "перец 60 гр\n",
      "колбаса 30 гр\n",
      "бекон 30 гр\n",
      "оливки 10 гр\n",
      "тесто 100 гр\n",
      "лимон 2 шт\n",
      "вода 400 мл\n",
      "сахар 20 гр\n",
      "лайм 40 гр\n"
     ]
    }
   ],
   "source": [
    "cook_book = {\n",
    "  'салат': [\n",
    "     {'ingridient_name': 'сыр', 'quantity': 50, 'measure': 'гр'},\n",
    "     {'ingridient_name': 'томаты', 'quantity': 20, 'measure': 'гр'},\n",
    "     {'ingridient_name': 'огурцы', 'quantity': 20, 'measure': 'гр'},\n",
    "     {'ingridient_name': 'маслины', 'quantity': 10, 'measure': 'гр'},\n",
    "     {'ingridient_name': 'оливковое масло', 'quantity': 20, 'measure': 'мл'},\n",
    "     {'ingridient_name': 'салат', 'quantity': 10, 'measure': 'гр'},\n",
    "     {'ingridient_name': 'перец', 'quantity': 20, 'measure': 'гр'}\n",
    "    ],\n",
    "  'пицца': [\n",
    "     {'ingridient_name': 'сыр', 'quantity': 20, 'measure': 'гр'},\n",
    "     {'ingridient_name': 'колбаса', 'quantity': 30, 'measure': 'гр'},\n",
    "     {'ingridient_name': 'бекон', 'quantity': 30, 'measure': 'гр'},\n",
    "     {'ingridient_name': 'оливки', 'quantity': 10, 'measure': 'гр'},\n",
    "     {'ingridient_name': 'томаты', 'quantity': 20, 'measure': 'гр'},\n",
    "     {'ingridient_name': 'тесто', 'quantity': 100, 'measure': 'гр'},   \n",
    "    ],\n",
    "  'лимонад': [\n",
    "     {'ingridient_name': 'лимон', 'quantity': 1, 'measure': 'шт'},\n",
    "     {'ingridient_name': 'вода', 'quantity': 200, 'measure': 'мл'},\n",
    "     {'ingridient_name': 'сахар', 'quantity': 10, 'measure': 'гр'},\n",
    "     {'ingridient_name': 'лайм', 'quantity': 20, 'measure': 'гр'},    \n",
    "    ]\n",
    "}\n",
    "from functools import reduce\n",
    "\n",
    "def num_guest_dishes(n):\n",
    "#    dishes_list = []\n",
    "    guest = 1\n",
    "    while guest <= int(n):\n",
    "        print('Введите название блюд для ', guest, ' гостя через пробел')\n",
    "        name_dishes = input().split()\n",
    "        dishes_list.append(name_dishes)\n",
    "        guest +=1\n",
    "    return dishes_list\n",
    "def count_dishes(dishes_list): # подсчет количества блюд\n",
    "    sal = 0\n",
    "    piz = 0\n",
    "    lim = 0\n",
    "    for k in dishes_list:\n",
    "        piz += k.count('пицца')\n",
    "        sal += k.count('салат')\n",
    "        lim += k.count('лимонад')\n",
    "    dishes.append(piz)\n",
    "    dishes.append(sal)\n",
    "    dishes.append(lim)\n",
    "    return dishes\n",
    "\n",
    "def ing_spisok(dishes): # список ингредиентов\n",
    "    x = 0\n",
    "    for r in cook_book:\n",
    "        if dishes[x] != 0:\n",
    "            for key in cook_book[r][0:]:\n",
    "                key['quantity'] *= dishes[x]\n",
    "                spisok.append(key)\n",
    "            x += 1\n",
    "    return spisok\n",
    "\n",
    "def total_list(spisok, x):\n",
    "    k = x['ingridient_name']\n",
    "    if k in spisok:\n",
    "        spisok[k]['quantity'] += x['quantity']\n",
    "    else:\n",
    "        spisok[k] = x\n",
    "    return spisok\n",
    "\n",
    "# основная программа\n",
    "dishes_list = []\n",
    "dishes = []\n",
    "spisok = []\n",
    "x = 0\n",
    "n = int(input('Введите количество гостей: '))\n",
    "num_guest_dishes(n)\n",
    "count_dishes(dishes_list)\n",
    "ing_spisok(dishes)\n",
    "a = (reduce(total_list, spisok, {}).values())\n",
    "print ('Список покупок: ')\n",
    "for r in a:\n",
    "    print (r['ingridient_name'], r['quantity'], r['measure'])"
   ]
  },
  {
   "cell_type": "markdown",
   "metadata": {},
   "source": [
    "Напишите программу (она может состоять из нескольких функций), которая будет запрашивать у пользователя количество гостей и список блюд, которые будут подаваться каждому гостю. В результате программа должна выдавать список покупок, состоящий из ингредиентов, которые нужно купить в магазине (если ингредиенты повторяются, то их нужно записать одной строкой, а не отдельно).\n",
    "\n",
    "Пример:\n",
    "\n",
    "вызов\\_главной\\_функций()\n",
    "\n",
    "Введите количество гостей: 3  \n",
    "Введите блюда через пробел: пицца пицца лимонад\n",
    "\n",
    "Список покупок:  \n",
    "сыр 120 гр  \n",
    "колбаса 180 гр  \n",
    "бекон 180 гр  \n",
    "оливки 60 гр  \n",
    "томаты 120 гр  \n",
    "тесто 600 гр  \n",
    "лимон 3 шт  \n",
    "вода 600 мл  \n",
    "сахар 30 гр  \n",
    "лайм 60 гр  "
   ]
  },
  {
   "cell_type": "markdown",
   "metadata": {},
   "source": [
    "## Задание 4"
   ]
  },
  {
   "cell_type": "markdown",
   "metadata": {},
   "source": [
    "Вы работаете секретарем и вам постоянно приходят различные документы. Вы должны быть очень внимательны, чтобы не потерять ни один документ. Каталог документов хранится в следующем виде:"
   ]
  },
  {
   "cell_type": "code",
   "execution_count": null,
   "metadata": {},
   "outputs": [],
   "source": [
    "documents = [\n",
    "    {'type': 'passport', 'number': '2207 876234', 'name': 'Василий Гупкин'},\n",
    "    {'type': 'invoice', 'number': '11-2', 'name': 'Геннадий Покемонов'},\n",
    "    {'type': 'insurance', 'number': '10006', 'name': 'Аристарх Павлов'}\n",
    "]"
   ]
  },
  {
   "cell_type": "markdown",
   "metadata": {},
   "source": [
    "Перечень полок, на которых находятся документы хранится в следующем виде:"
   ]
  },
  {
   "cell_type": "code",
   "execution_count": null,
   "metadata": {},
   "outputs": [],
   "source": [
    "directories = {\n",
    "    '1': ['2207 876234', '11-2', '5455 028765'],\n",
    "    '2': ['10006', '5400 028765', '5455 002299'],\n",
    "    '3': []\n",
    "}"
   ]
  },
  {
   "cell_type": "code",
   "execution_count": null,
   "metadata": {},
   "outputs": [],
   "source": [
    "# реализрваны команды задач с 4 по 6\n",
    "documents = [\n",
    "    {'type': 'passport', 'number': '2207 876234', 'name': 'Василий Гупкин'},\n",
    "    {'type': 'invoice', 'number': '11-2', 'name': 'Геннадий Покемонов'},\n",
    "    {'type': 'insurance', 'number': '10006', 'name': 'Аристарх Павлов'}\n",
    "]\n",
    "directories = {\n",
    "    '1': ['2207 876234', '11-2', '5455 028765'],\n",
    "    '2': ['10006', '5400 028765', '5455 002299'],\n",
    "    '3': []\n",
    "}\n",
    "\n",
    "def not_doc(num_false):\n",
    "        if num_false == 0:\n",
    "            print ('Вы ввели несуществующий документ')\n",
    "\n",
    "def p_people():\n",
    "    num_false = len(documents)\n",
    "    num_doc = input('Введите номер документа: ')\n",
    "    for r in documents:\n",
    "        if r['number'] == num_doc:\n",
    "            print ('Документ принадлежит: ', r['name'])\n",
    "            num_false += 1\n",
    "        num_false -= 1\n",
    "    not_doc(num_false)\n",
    "    \n",
    "def s_shelf():\n",
    "    num_false = len(directories)\n",
    "    num_doc = str(input('Введите номер документа: '))\n",
    "    for k, v in directories.items():\n",
    "        for v in directories[k]:\n",
    "            if num_doc in v.split(','):\n",
    "                print ('Документ находится на полке: ', k)\n",
    "                num_false += 1\n",
    "        num_false -= 1\n",
    "    not_doc(num_false)\n",
    "    \n",
    "def l_list():\n",
    "    list_passport = []\n",
    "    for r in documents:\n",
    "        print ('\\033[1m' + 'passport','\\\"{}\\\"'.format(r['number']),'\\\"{}\\\"'.format(r['name']) + '\\033[0m')\n",
    "        \n",
    "def as_add shelf():\n",
    "    num_shelf = input('Введите номер полки: ')\n",
    "    directories.setdefault(num_shelf, [])\n",
    "    print (directories)\n",
    "    \n",
    "def d_delete():\n",
    "    num_false = len(documents)\n",
    "    num_doc = input('Введите номер документа: ')\n",
    "    for r in documents:\n",
    "        if r['number'] == num_doc:\n",
    "            del r['number']\n",
    "            print ('Номер документа удален.')\n",
    "            print ('Новый каталог: ', documents)\n",
    "            for k, v in directories.items():\n",
    "                for v in directories[k]:\n",
    "                    if num_doc in v:\n",
    "                        directories[k].remove(num_doc)\n",
    "                        print ('Документ удален с ', k,' полки: ')\n",
    "                        print ('Документ на полке: ', directories)\n",
    "        else:\n",
    "            num_false -= 1\n",
    "    not_doc(num_false)\n",
    "    \n",
    "def m_move():\n",
    "    num_false = len(documents)\n",
    "    num_shelf_false = len(directories)\n",
    "    num_doc = input('Введите номер документа: ')\n",
    "    for r in documents:\n",
    "        if r['number'] == num_doc:\n",
    "            num_false += 1\n",
    "        num_false -= 1\n",
    "    not_doc(num_false)\n",
    "    if num_false != 0:\n",
    "        num_shelf = input('Введите номер полки: ')\n",
    "        for k, v in directories.items():\n",
    "            for v in directories[k]:\n",
    "                if num_doc in v:\n",
    "                    directories[k].remove(num_doc)\n",
    "            if k == num_shelf:\n",
    "                directories[k].append(num_doc)\n",
    "                print ('Документ: ', num_doc,'перемещен на полку ', k)\n",
    "            else:\n",
    "                num_shelf_false -= 1\n",
    "        if num_shelf_false == 0:\n",
    "            print ('Вы ввели несуществующий номер полки')\n",
    "            print ('Список полок: ', list(directories.keys()))\n",
    "            \n",
    "def a_add():\n",
    "    num_doc = input('Введите номер нового документа: ')\n",
    "    num_shelf = input('Введите номер полки на которой его разместить: ')\n",
    "    if num_shelf in list(directories.keys()):\n",
    "        type_doc = input('Введите тип документа: ')\n",
    "        name_user = input('Введите имя владельца: ')\n",
    "        doc_new = {'type': type_doc, 'number': num_doc, 'name': name_user}\n",
    "        documents.append(doc_new)\n",
    "        print ('Докумет добавлен в коталог: ', documents)\n",
    "        directories[num_shelf].append(num_doc)\n",
    "        print ('Документ размещен на полке: ', num_shelf)\n",
    "        print (directories)\n",
    "    else:\n",
    "        print ('Нет полки с таким номером')\n",
    "\n",
    "print ('Выберите команду: 1 (people) 2 (shelf) 3 (list) 4 (add shelf) 5 (delete) 6 (move) 7 (add)')\n",
    "num_cd = input()\n",
    "cd_user = ['1','2','3','4','5','6','7']\n",
    "if num_cd not in cd_user:\n",
    "    print ('Вы выбрали неверную комманду. Выберите команду c 1-ю по 7-ю')\n",
    "elif num_cd == '1':\n",
    "    p_people()\n",
    "elif num_cd == '2':\n",
    "    s_shelf()\n",
    "elif num_cd == '3':\n",
    "    l_list()\n",
    "elif num_cd == '4':\n",
    "    as_add shelf()\n",
    "elif num_cd == '5':\n",
    "    d_delete()\n",
    "elif num_cd == '6':\n",
    "    m_move()\n",
    "elif num_cd == '7':\n",
    "    a_add()"
   ]
  },
  {
   "cell_type": "markdown",
   "metadata": {},
   "source": [
    "Необходимо реализовать пользовательские команды (внимание! это не название функций, которые должны быть выразительными, а команды, которые вводит пользователь, чтобы получить необходимый результат):\n",
    "  \n",
    "- p – people – команда, которая спросит номер документа и выведет имя человека, которому он принадлежит;  \n",
    "- s – shelf – команда, которая спросит номер документа и выведет номер полки, на которой он находится  \n",
    "Правильно обработайте ситуацию, когда пользователь будет вводить несуществующий документ."
   ]
  },
  {
   "cell_type": "markdown",
   "metadata": {},
   "source": [
    "## Задание 5"
   ]
  },
  {
   "cell_type": "markdown",
   "metadata": {},
   "source": [
    "К условию из задания 5 реализуйте следующие команды:\n",
    "  \n",
    "- l – list – команда, которая выведет список всех документов в формате   \n",
    "**passport \"2207 876234\" \"Василий Гупкин\"**  \n",
    "- as – add shelf – команда, которая спросит номер новой полки и добавит ее в перечень"
   ]
  },
  {
   "cell_type": "markdown",
   "metadata": {},
   "source": [
    "## Задание 6"
   ]
  },
  {
   "cell_type": "raw",
   "metadata": {},
   "source": [
    "К условию из задания 5 реализуйте следующие команды:  \n",
    "  \n",
    "- d – delete – команда, которая спросит номер документа и удалит его из каталога и из перечня полок. Предусмотрите сценарий, когда пользователь вводит несуществующий документ;  \n",
    "- m – move – команда, которая спросит номер документа и целевую полку и переместит его с текущей полки на целевую. Корректно обработайте кейсы, когда пользователь пытается переместить несуществующий документ или переместить документ на несуществующую полку;  \n",
    "- a – add – команда, которая добавит новый документ в каталог и в перечень полок, спросив его номер, тип, имя владельца и номер полки, на котором он будет храниться."
   ]
  }
 ],
 "metadata": {
  "kernelspec": {
   "display_name": "Python 3",
   "language": "python",
   "name": "python3"
  },
  "language_info": {
   "codemirror_mode": {
    "name": "ipython",
    "version": 3
   },
   "file_extension": ".py",
   "mimetype": "text/x-python",
   "name": "python",
   "nbconvert_exporter": "python",
   "pygments_lexer": "ipython3",
   "version": "3.7.3"
  }
 },
 "nbformat": 4,
 "nbformat_minor": 2
}
